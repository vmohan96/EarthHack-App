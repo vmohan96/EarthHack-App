{
 "cells": [
  {
   "cell_type": "code",
   "execution_count": 7,
   "id": "32eb4c2f-2a92-4dea-8dc0-3bfb588efb07",
   "metadata": {
    "scrolled": true
   },
   "outputs": [],
   "source": [
    "from transformers import GPT2LMHeadModel, GPT2Tokenizer\n",
    "from ChatData import ChatData\n",
    "from torch.optim import Adam\n",
    "from torch.utils.data import DataLoader\n",
    "import tqdm\n",
    "import torch\n",
    "\n",
    "import pandas as pd"
   ]
  },
  {
   "cell_type": "markdown",
   "id": "e2667175-8bbc-442f-b2e0-1c5801d16f34",
   "metadata": {},
   "source": [
    "### Whole Script"
   ]
  },
  {
   "cell_type": "code",
   "execution_count": 2,
   "id": "68abcd21-4949-48aa-adf9-2424dd37a5d1",
   "metadata": {},
   "outputs": [],
   "source": [
    "def train(chatData, model, optim):\n",
    "\n",
    "    epochs = 12\n",
    "\n",
    "    for i in tqdm.tqdm(range(epochs)):\n",
    "        for X, a in chatData:\n",
    "            X = X.to(device)\n",
    "            a = a.to(device)\n",
    "            optim.zero_grad()\n",
    "            loss = model(X, attention_mask=a, labels=X).loss\n",
    "            loss.backward()\n",
    "            optim.step()\n",
    "        torch.save(model.state_dict(), \"model_state.pt\")\n",
    "        print(infer(\"hello how are you\"))"
   ]
  },
  {
   "cell_type": "code",
   "execution_count": 3,
   "id": "b7e51e44-d615-4223-ae58-205731a0360d",
   "metadata": {},
   "outputs": [],
   "source": [
    "def infer(inp):\n",
    "    inp = \"<startofstring> \"+inp+\" <bot>: \"\n",
    "    inp = tokenizer(inp, return_tensors=\"pt\")\n",
    "    X = inp[\"input_ids\"].to(device)\n",
    "    a = inp[\"attention_mask\"].to(device)\n",
    "    output = model.generate(X, attention_mask=a)\n",
    "    output = tokenizer.decode(output[0], skip_special_tokens=True)\n",
    "    return output"
   ]
  },
  {
   "cell_type": "code",
   "execution_count": 4,
   "id": "36752802-3c0a-414c-92bc-fde9dd45c04b",
   "metadata": {},
   "outputs": [],
   "source": [
    "device = \"cuda\" if torch.cuda.is_available() else \"mps\" if torch.backends.mps.is_available() else \"cpu\"\n",
    "\n",
    "tokenizer = GPT2Tokenizer.from_pretrained(\"gpt2\")\n",
    "tokenizer.add_special_tokens({\"pad_token\": \"<pad>\", \n",
    "                                \"bos_token\": \"<startofstring>\",\n",
    "                                \"eos_token\": \"<endofstring>\"})\n",
    "tokenizer.add_tokens([\"<bot>:\"])\n",
    "\n",
    "model = GPT2LMHeadModel.from_pretrained(\"gpt2\")\n",
    "model.resize_token_embeddings(len(tokenizer))\n",
    "\n",
    "model = model.to(device)"
   ]
  },
  {
   "cell_type": "code",
   "execution_count": 5,
   "id": "45c6f3ef-d194-4a21-952f-b9e75bb61132",
   "metadata": {},
   "outputs": [
    {
     "name": "stdout",
     "output_type": "stream",
     "text": [
      "<startofstring> The construction industry is indubitably one of the significant contributors to global waste, contributing approximately 1.3 billion tons of waste annually, exerting significant pressure on our landfills and natural resources. Traditional construction methods entail single-use designs that require frequent demolitions, leading to resource depletion and wastage. <bot>: Herein, we propose an innovative approach to mitigate this problem: Modular Construction. This method embraces recycling and reuse, taking a significant stride towards a circular economy. Modular construction involves utilizing engineered components in a manufacturing facility that are later assembled on-site. These components are designed for easy disassembling, enabling them to be reused in diverse projects, thus significantly reducing waste and conserving resources. Not only does this method decrease construction waste by up to 90%, but it also decreases construction time by 30-50%, optimizing both environmental and financial efficiency. This reduction in time corresponds to substantial financial savings for businesses. Moreover, the modular approach allows greater flexibility, adapting to changing needs over time. We believe, by adopting modular construction, the industry can transit from a 'take, make and dispose' model to a more sustainable 'reduce, reuse, and recycle' model, driving the industry towards a more circular and sustainable future. The feasibility of this concept is already being proven in markets around the globe, indicating its potential for scalability and real-world application. <endofstring>\n"
     ]
    }
   ],
   "source": [
    "# print(tokenizer.decode(model.generate(**tokenizer(\"hey i was good at basketball but \",\n",
    "#                          return_tensors=\"pt\"))[0]))\n",
    "\n",
    "chatData = ChatData(\"./Hackathon - Dataset - Sheet1.csv\", tokenizer)\n",
    "chatData =  DataLoader(chatData, batch_size=128)\n",
    "\n",
    "model.train()\n",
    "\n",
    "optim = Adam(model.parameters(), lr=1e-3)"
   ]
  },
  {
   "cell_type": "code",
   "execution_count": 13,
   "id": "7aaccdf1-b2a1-4f0a-aed4-1de924ec0a57",
   "metadata": {
    "collapsed": true,
    "jupyter": {
     "outputs_hidden": true
    }
   },
   "outputs": [
    {
     "data": {
      "text/plain": [
       "[\"<startofstring> The construction industry is indubitably one of the significant contributors to global waste, contributing approximately 1.3 billion tons of waste annually, exerting significant pressure on our landfills and natural resources. Traditional construction methods entail single-use designs that require frequent demolitions, leading to resource depletion and wastage. <bot>: Herein, we propose an innovative approach to mitigate this problem: Modular Construction. This method embraces recycling and reuse, taking a significant stride towards a circular economy. Modular construction involves utilizing engineered components in a manufacturing facility that are later assembled on-site. These components are designed for easy disassembling, enabling them to be reused in diverse projects, thus significantly reducing waste and conserving resources. Not only does this method decrease construction waste by up to 90%, but it also decreases construction time by 30-50%, optimizing both environmental and financial efficiency. This reduction in time corresponds to substantial financial savings for businesses. Moreover, the modular approach allows greater flexibility, adapting to changing needs over time. We believe, by adopting modular construction, the industry can transit from a 'take, make and dispose' model to a more sustainable 'reduce, reuse, and recycle' model, driving the industry towards a more circular and sustainable future. The feasibility of this concept is already being proven in markets around the globe, indicating its potential for scalability and real-world application. <endofstring>\",\n",
       " '<startofstring> I\\'m sure you, like me, are feeling the heat - literally! With World Health Organization declaring climate change as \"\"the greatest threat to global health in the 21st century\"\", we\\'re in a race against time to move away from fossil fuels to more efficient, less polluting electrical power. But as we take bold leaps into a green future with electric cars and heating, we\\'re confronted with a new puzzle - generating enough electrical power without using fossil fuels! <bot>: Imagine standing on a green hill, not a single towering, noisy windmill in sight, and yet, you\\'re surrounded by wind power generation! Using existing, yet under-utilized technology, I propose a revolutionary approach to harness wind energy on a commercial scale, without those \"\"monstrously large and environmentally damaging windmills\"\". With my idea, we could start construction tomorrow and give our electrical grid the jolt it needs, creating a future where clean, quiet and efficient energy isn\\'t a dream, but a reality we live in. This is not about every home being a power station, but about businesses driving a green revolution from the ground up! <endofstring>',\n",
       " '<startofstring> The massive shift in student learning towards digital platforms has resulted in an increased carbon footprint due to energy consumption from data centers and e-waste from obsolete devices. Simultaneously, physical books are often produced, used once, and then discarded, leading to waste and deforestation. <bot>: Implement a \"\"Book Swap\"\" program within educational institutions and local communities. This platform allows students to trade books they no longer need with others who require them, reducing the need for new book production and hence, lowering the rate of resource depletion. Furthermore, the platform could have a digital component to track book exchanges, giving users credits for each trade, which they can accrue and redeem. This system encourages and amplifies the benefits of reusing and sharing resources, thus contributing to the circular economy. By integrating gamification, getting students and parents involved and providing an easy-to-use platform, the program could influence a cultural shift towards greater resource value appreciation and waste reduction. In terms of the financial aspect, less reliance on purchasing new books could save money for students, parents and schools. <endofstring>',\n",
       " '<startofstring> The fashion industry is one of the top contributors to global pollution. The mass production, distribution and disposal of clothing is not sustainable long-term, leading to the release of greenhouse gases from manufacturing, shipping and wasted clothing in landfills. <bot>: The proposed solution is a garment rental service. Such a service should work closely with major clothing brands. When buying items, customers should have the option to buy or rent. This model would be like a subscription service where customers can select a set number of items each month, wear them, then return them for other items. Clothing would be professionally cleaned between customers and repaired as necessary to maximize its life cycle. When a garment is no longer suitable for rental, it can be recycled into new clothes. This solution reduces the number of garments produced, the amount of transportation needed, and the quantity of clothes going to landfills. Completely damaged or unusable textiles can be reused or recycled into new products. It also gives financial value to businesses as it transforms fashion from a single-purchase model into a subscription service, creating a continuous income stream. Its feasibility and scalability depend on factors such as location, culture, and income level. However, as digital platforms become more common for commerce, this concept could be globally implemented. <endofstring>',\n",
       " \"<startofstring> The majority of the materials used in producing electronic goods are not being utilized optimally. Numerous electronic devices are replaced before their lifespan ends, often due to minor malfunctioning or outdated components, resulting in significant production of electronic waste and underutilization of natural resources. <bot>: An innovative concept would be a modular electronic device model where users are able to upgrade or swap components, rather than replacing the entire device, thus promoting a circular economy. This goes beyond just restoration but rather the idea of creating an electronic gadget that thrives on reuse and modifications, maximising the life and value of each part. Manufacturers need to design gadgets with modules for core components, allowing for easy upgrades or replacements. For instance, a smartphone could have individually upgradeable components: camera, battery, CPU, etc. When a module fails or becomes outdated, only that module needs to be replaced. This idea promotes resource use efficiency and significantly cuts waste, under the 'reduce, reuse, repair' mantra. The replaced modules should be sent back to manufacturers for refurbishment or extraction of critical raw materials. For businesses it opens a new market space, enabled by sale of modules and recycled components, providing long term value capture. It also increases customer loyalty as they continually engage with the manufacturers in the lifecycle of their device. The model is scalable as it allows for the continuous incorporation of technological advancements within the same core device. This modular approach is not only novel but it clearly addresses the broader picture of how electronic devices should be designed for a circular economy, considering environmental protection, resource efficiency, economic viability, and customer value. <endofstring>\",\n",
       " '<startofstring> Businesses worldwide expend substantial financial resources on paper-based transaction evidence like printed receipts. This not only adds to operational costs but also contributes to environmental degradation due to paper wastage and lack of recycling. <bot>: The proposed solution involves developing a secure mobile app that digitizes the process of storing transactional evidence. In lieu of printed receipts, the app records and stores all customer purchase data. A \\'tap-and-go\\' feature would facilitate smooth transactions. Environmental Impact: This reduces paper consumption significantly, thereby promoting resource conservation and lowering the waste generated every year due to discarded receipts. Financial Impact: Businesses stand to make substantial savings on paper, printing, and storage costs over time. Given the trend of digital technology adoption, offering digital receipts can also enhance customer experience leading to potential increased patronage. Feasibility and Scalability: With the rise of digital technology acceptance, implementation of this solution is feasible. Businesses of all sizes, from local shops to multinational chains, can adopt this system, thus indicating high scalability. Increasing smartphone penetration offers an existing infrastructure that can host this solution, reducing the barriers to entry and adoption. The focus will remain on the environmental and financial benefits of this proposed solution, although additional \"\"quality of life\"\" features may be developed over time to increase user engagement and usage. <endofstring>',\n",
       " '<startofstring> more than 130 Billon plastic bottles waste annualy in Egypt <bot>: Bariq factory to recyle plastic bottels <endofstring>',\n",
       " '<startofstring> In congested cities like Berlin, one of the significant challenges faced by carsharing users is the difficulty in finding a parking spot and handing over the vehicle, resulting in extended driving distances, increased costs, frustration, and augmented fuel consumption. <bot>: Let\\'s revolutionize the carsharing experience with our creative solution! Implementing a three-part strategy consisting of a \"\"Handover Radar\"\", \"\"AI-based Forecasts\"\", and \"\"Ride-sharing Radar\"\". 1. The \"\"Handover Radar\"\" - think of it as GPS for people! It connects drivers to potential renters in their destination area, eliminating the need to search for parking. 2. \"\"AI-based Forecasts\"\" - Our crystal-ball for car availability! Using past patterns and real-time data, it predicts car availabilities for renters, increasing overall efficiency majorly. 3. \"\"Ride-sharing Radar\"\" - Your carpooling maestro! It connects drivers and passengers heading the same way, reducing costs while providing a convenient option for pedestrian commuters. Get ready to enjoy a seamless carsharing experience, save money, reduce frustration, and, most importantly, contribute to our planet\\'s health! Let\\'s drive towards a greener future together! <endofstring>',\n",
       " \"<startofstring> One major global issue we face today is the surplus of plastic waste. Single-use plastics are commonly used for packaging in various sectors, like retail, food, and manufacturing. These plastics, often non-recyclable or ignored during waste management, clog up our oceans, harm wildlife, and end up in landfills, where they take hundreds of years to degrade. Furthermore, producing these plastics requires a significant amount of energy and resources and contributes to environmental degradation. <bot>: My solution is an innovative Reloop - System, which involves a comprehensive 'Packaging as a Service' model for businesses across sectors. In the first step, productions and businesses would eliminate their need for newly produced plastic packaging whenever possible, by collaborating with a 'Packaging as a Service' provider. Each business would regularly receive high-quality, standardized, reusable containers from the service. They fill these containers with their products, and after distribution, the used containers are rounded up from retail stores or directly from consumers. The second step involves the cleaning and sanitation process. Gathered containers are mechanically cleaned and sterilized, making them ready for reuse. As these containers are durable and designed for multiple uses, this process significantly reduces the demand for single-use plastics. Lastly, the circular nature of this model ensures massively reduced plastic waste production and encompasses a viable financial model. Businesses save money by reducing expenditure on plastic packaging production or procurement. The service creates new job opportunities in the collection, cleaning, and redistribution of containers, contributing to the economy. While this idea may face implementation challenges due to existing infrastructures and systems, its long-term benefits and scalability make it a feasible solution to the current plastic waste problem. <endofstring>\",\n",
       " '<startofstring> The usage of plastic bottles <bot>: Creating a service that sells bottles, and re-fill them with soda, water, juice or anything you want. This service will have stores and whenever you want to fill your bottle you can go there insted of buying a new bottle of water or soda or anything. <endofstring>',\n",
       " '<startofstring> Despite the environmental principles behind a reusable packaging service model, in its current form, it demands significant adjustments from businesses, requires customer cooperation, may induce additional costs, and presents operational risks. Additionally, while the concept supports the circular economy, it lacks novelty. <bot>: To resolve these constraints and amplify the novelty factor, we are proposing an innovative \"\"Smart Packaging as a Service\"\" model. The core of our idea revolves around developing intelligent, durable, and reusable packaging equipped with IoT (Internet of Things) sensors. These smart packages can provide real-time data about the package\\'s location, state, and condition√¢¬Ä¬îhelping businesses to streamline their logistics, reduce waste, and lessen the environmental impact, while also enhancing customer experience. Novelty lies in how we transcend the usual reusable packaging model by integrating IoT technology. The interactive platform associated with IoT would encourage customers to return the packages by providing benefits such as loyalty points, adding a gamification aspect. Furthermore, it can generate new revenue streams by leveraging the data gathered, enabling businesses to optimize their operations, reduce costs or even sell this data to interested third parties√¢¬Ä¬îmaking the proposition not just cost-effective, but financially rewarding. The nature of IoT allows for scalability with growth and feasibility in several industries from food delivery, retail to pharmaceuticals, and more. Environmental impact is felt not just through the direct reduction in singular use packaging, but also from the optimised logistics reducing additional carbon emissions. This Smart Packaging as a Service offers an evolved take on the traditional Packaging as a Service model, increasing the novelty and improving upon the financial and environmental impacts and feasibility. <endofstring>',\n",
       " \"<startofstring> The fashion industry is the second-largest polluter in the world, right after the oil industry. Every year, the world consumes about 80 billion new pieces of clothing, and this production consumes resources, raises the carbon footprint, and produces waste. The fast fashion cycle encourages this overconsumption model, causing tremendous stress on our planet's resources. <bot>: Our solution to this is to transform the way we consume fashion through the creation of a shared fashion platform √¢¬Ä¬ì a fashion library. The fashion library will function on the concept of lending versus owning; it's like Airbnb but for clothes. Customers become members and can borrow from a vast clothing collection for a duration of their choice, starting from day-long rentals for special occasions to month-long arrangements for regular wear. The clothes are then returned, cleaned, and made available again for the second round. This creates a constantly rotating wardrobe, reducing the need for production of new clothes, thus minimizing environmental footprint and wastage. This library could contain pieces from a variety of sources including designer collaborations, garments from sustainable brands, donations from individuals, and more. It encourages the reuse and recycling of garments, immensely reducing the environmental impact caused by constant production. From a financial perspective, this model can be lucrative for businesses as it provides access to a larger customer base; consumers who typically can't afford designer or high-quality sustainable clothing can now access these pieces at a fraction of the cost. The feasibility and scalability of such a concept have already been proven with successful pilot projects in cities like New York and London. With increasing environmental consciousness among consumers, this model has the potential to disrupt and transform the fashion industry, making it more circular, sustainable, and inclusive. <endofstring>\",\n",
       " '<startofstring> The fashion industry has a considerable environmental impact due to high resource utilization and waste. However, implementing a \"\"pure\"\" rental model may face several feasibility and scalability issues, and the environmental benefits may be offset by the footprint of maintenance and logistics. <bot>: Instead of a complete rental model, we propose an \"\"Integrated Clothing Lifecycle Management\"\" system, where businesses not only rent out clothes but also sell second-hand clothes, create clothes from recycled fibers, and incentivize consumers to participate in these activities. In the proposed model, companies should collaborate with local businesses like laundromats and recyclers, turning every city into a practical network hub of the circular economy, which will reduce the carbon footprint of logistics. This model increases customer engagement and improves feasibility by offering options that falls in line with comfort for different market segments. It is scalable as it can be adapted by both big brands and local businesses, and it reduces the dependency on garment production and the associate environmental toll. It thus provides a financial prosperous scenario as well, by tapping into the burgeoning second-hand and sustainable market. <endofstring>',\n",
       " '<startofstring> The solution is meant to solve the issue of electronic waste and reduce the heap of idle electronic products in our homes <bot>: E waste has always been a growing problem in the world. The inclusion of circular economy techniques in our day to day life can bring about a huge change in this context. The consumer electronic goods that remains idle in our homes or is inoperative can be thought of as a means to implement the idea. If there exists a system which can collect the inoperative home consumer goods, extract the different parts like transistors, diodes, etc and make it to use in future products, I think it may reduce the problem of e waste marginally. Even if the parts are damaged, in some cases, trying to repair them can be much more cheap way than building a new component altogether. Thus even the manufacturing cost can be reduced. Also, there can be a quick supply of electronic components in the market. \\n There can also be a responsible framework of second hand consumer electronic goods. Thus even the poor people can afford the best of consumer electronics without spending much from their pocket. This will include more people in the consumer electronics market which can in turn improve the market forces. <endofstring>',\n",
       " '<startofstring> Single-use plastic packaging has become an all-too-common sight in our environment, resulting in detrimental environmental impacts. Studies show that approximately 8.3 billion tonnes of plastic have been produced since 1950, and 60% of that plastic ends up in either our landfills or the natural environment. This contributes greatly to pollution, harms wildlife, affects human health, and exacerbates climate change. <bot>: To alleviate this problem, we propose developing a consumer-friendly, easy-to-use app that manages and optimises the reverse logistics of packaging. Imagine this: when purchasing a product, consumers will pay a one-time fee for reusable packaging. After use, they can return the empty packaging via designated collection points or direct pickup services. The app will facilitate this process by tracking, scheduling pickups or locating nearby collection points. The packaging is then cleaned and reused, thereby reducing the need for new plastic production and ensuring the packaging circulates within the economy, instead of ending up as waste. This app will not only help consumers make more sustainable choices but also incentivise producers to shift towards a circular economy model. <endofstring>',\n",
       " '<startofstring> The fashion industry contributes about 10% of global CO2 emissions, with fast fashion being the major contributor. Fast fashion leads to the creation of end-of-life waste, where 85% of textile waste ends up in landfills or is incinerated. Furthermore, the industries involved in the production of fast-fashion are found in developing countries where workers face poor working conditions, and economies struggle due to rising waste management costs. <bot>: \"\"Full Turn Fashion\"\" is a comprehensive circular economy model designed to tackle fashion waste and pollution. Ushering the paradigm shift from usual \\'produce-use-dispose\\' to \\'reduce-reuse-recycle, we encourage consumers to return their worn-out clothing which we will collect, sort and recycle into unique, locally produced garments. Wastes unsuitable for direct recycling will be decomposed to produce organic dyes and materials. Operating specifically within fast-fashion importing countries, these processes involve local SMEs and communities, promoting local economy growth and creating jobs. Financial feasibility is achieved through revenue from the sale of upcycled apparel and premium value added to Geographical Indication. Our model is scalable, with potential for network expansion across other fast-fashion importing countries, steering the global fashion industry towards sustainability. <endofstring>',\n",
       " \"<startofstring> Rapid advancement in technology and our demand for the latest electronic devices, such as laptops, computers, and other digital gadgets, result in huge amounts of electronic waste. It's not just harmful for the environment but also poses potential health risks due to the toxic materials contained in these gadgets. <bot>: We can contribute to the circular economy by developing a comprehensive online platform that connects people who want to lease their unused electronic devices with those in temporary need of such gadgets. This online marketplace would host a range of electronic devices, including computers, laptops, audio equipment, and other peripherals. By doing so, we reduce the demand for new electronic goods, thus slowing down tech-related waste generation. As for financial impact, the website's leasing model could become a new revenue stream for electronic device owners and an affordable equipment source for consumers, businesses, and even schools and non-profits. Features of this platform would include user accounts, device listings, transparent ratings and reviews, secure payment processing, lease agreement creation, and a seamless connection with shipping services. Implementation is highly feasible with current e-commerce technologies, and scalability is vast as digital gadgets are universally used and often replaced. The environmental impact is significant, as it directly targets the pressing issue of electronic waste and energy consumption. <endofstring>\",\n",
       " \"<startofstring> Reducing plastic use in the food industry is a formidable challenge. Conventional mechanisms to incentivize the return of containers are somewhat reliant on individual motivation and may not be effective enough. <bot>: Building on the Green Box Project, a digital solution could be implemented to enhance novelty and facilitate financial impact. The use of smart technology can incentivize the return of containers without requiring consumers to carry and return containers physically - Let's call this 'Smart Green Box'. In Smart Green Box, the initial design is enhanced with IoT (Internet of Things) technology. Each reusable food container would be embedded with an RFID chip. These chips can track the movement of containers, assist with inventory management, and also track incentives for users. When a customer buys food in a Smart Green Box, they earn points (using a dedicated mobile app) with each purchase. On returning the container in any collection kiosk (which can be placed abundantly in supermarkets, malls, and strategic areas), the app registers the return, adds points, and calculates the equivalent financial value- a direct discount on their subsequent purchases. This model would have quick and tangible financial benefits for both businesses and consumers. For businesses, lost containers would be minimized (thus protecting the investment), and customer loyalty could increase through regular use of the app. Consumers not only get the compelling financial incentive of discounts on future purchases but also the convenience of not needing to return containers to specific locations. Furthermore, this approach could scale rapidly. With the use of technology, businesses can track real-time data which could be used to improve and adapt the system as it grows. The digital upgrade adds a new dimension to the idea, making it a more unique solution. It also ensures a more predictable financial benefit, which would make it attractive for both businesses and consumers. <endofstring>\",\n",
       " \"<startofstring> In a fast-paced, consumer-driven society, electronic waste or e-waste is a growing problem. The average lifespan of electronic gadgets has significantly reduced over the years, culminating in rapid obsolescence and increased generation of e-waste. This problem has grave environmental and health implications as harmful components of e-waste, including mercury, lead, and other toxic elements, can leak into the soil, air, and water. Businesses in the technology sector often adopt a linear model of 'create-consume-dispose,' which accelerates the rate of e-waste generation and masks the potential of valuable resources in such waste for recycling or refurbishment. <bot>: To address this issue, businesses can transition to a circular model that promotes the recycling, refurbishing, and repair of electronic devices. Companies adopting this system would allow consumers to return their old devices when they buy a new one, similar to trade-in programs. The old devices would be either refurbished and sold in secondary markets or responsibly recycled to extract vital components. Additionally, these companies can design products for longevity, and incorporate designs for easy disassembly allowing efficient reuse and recycling of components. This also initiates the need for repair services, sparking potential for new revenue streams. Such an approach not only cuts down e-waste and its environmental impact, but also allows businesses to reduce manufacturing costs and tap into new markets, thereby creating additional financial value. <endofstring>\",\n",
       " '<startofstring> The fast fashion industry promotes high consumption rates, resulting in huge amounts of waste and pollution. There is an unmet need for sustainable fashion consumption that encourages reuse and conservation, adds novelty, and addresses environmental and financial concerns. <bot>: I propose an innovative digital platform that uses Augmented Reality (AR) technology for consumers to \"\"try on\"\" and virtually own clothing items. This would permit customers to experience wearing various fashion items without the need for physical ownership. Besides reducing waste and pollution associated with production and disposal, such a platform would provide unprecedented variety in virtual wardrobes, thereby catering to the consumer desire for constantly changing styles. Users could pay a subscription fee to access a vast virtual fashion library, thus generating steady revenue for businesses. The AR technology can be continuously updated and scaled up, enabling expansion into new markets and styles. While upfront investment in technology development and updates may be significant, this will be offset by reduced production costs and increased customer reach. The environmental impact would be vastly reduced as clothing production would drop dramatically, effectively addressing one of the world\\'s largest polluting industries. The novelty lies in the use of AR technology in this field, which still is a largely untapped area. This integrates technology with sustainable fashion practices, creating value for consumers, businesses, and most importantly, our planet. <endofstring>',\n",
       " '<startofstring> Encourages a circular economy and minimizes waste by reducing the need for customers to buy new clothes. <bot>: Companies can offer clothing rental services for events or special occasions, reducing the need for customers to buy new clothes and promoting the circular use of resources. <endofstring>',\n",
       " '<startofstring> Create Awareness of the propensity of Reduce, Reuse, Brick building <bot>: I have developed this solution in the construction sector and I got the initiative from a course I took termed \"\"Waste Management in Developing Countries\"\" from Couserra and my point of reference being that quite alot of materials still end up as gabbage in my country and also in the building & construction.\\n \\n The application of concrete which is a mixture of gravel, cement, sand and water with the addition of metals mostly in the construction of beams and pillars has its drawbacks as the metal\\'s rust with time and it\\'s main function of withholding the tensile stress of the load is eroded leading to the weakening of such structures and their eventual collapse.\\n \\n I have made 5 bricks using natural materials\\n -crushed granite\\n -beach sand\\n -crushed bottles\\n -cement\\n -clay\\n -water\\n \\n In different proportions in order that they may be used in water logged areas and also so the world can have a concrete structure without metals included in the casting thereby retaining the strength of the structure using crushed bottles instead which also has the needed stress holding capacity when reacted with cement as well as luminance and giving beauty.\\n \\n However, it is to be noted that this work is still subject to evaluation. Also in making the bricks, I was confident of the success of the innovation because\\n - clay is abundant in Nigeria\\n -houses built with clay bricks have a longer lifespan than traditional bricks\\n -clay bricks are also more environmentally sustainable\\n -a large chuck of bottles are still discarded here or simply broken to pieces and a minute quantity going to recycling\\n \\n I also desire to improve on the strength of the bricks because I employed sun drying to remove the moisture content. I wish to employ oven drying and subject them to hotness and coldness test. Also I aim to build my own house with the bricks even if it\\'s not accepted globally. <endofstring>',\n",
       " '<startofstring> Encourages a culture of sharing and minimizes waste by reducing the need for customers to buy and dispose of products. <bot>: Companies can offer products as a service, where customers pay for access or usage rather than ownership. This can be done through subscription models or pay-per-use systems. <endofstring>',\n",
       " '<startofstring> Green house emissions, depleting resources <bot>: Food waste is a major contributor to greenhouse gas emissions, and initiatives that promote circular food systems can help reduce waste and improve food security. These initiatives include composting programs, food recovery programs, and urban farming.\\n \\n  Designing products with the end-of-life in mind can help create a more circular economy. For example, designing products with easily disassembled components, making them easier to repair or refurbish, or using materials that can be recycled or composted. <endofstring>',\n",
       " '<startofstring> The extensive energy consumption of buildings due to inefficient equipment and wasteful habits, particularly for lighting and HVAC systems, negatively impacts environmental health and can also be a significant expense for businesses. <bot>: A comprehensive building-integrated photovoltaic (BIPV) system could be an innovative approach to address these issues. BIPV systems are essentially solar panel arrays that are integrated into the building itself, and not just simply attached to the roof. They can be incorporated into the walls, roof, and even windows, not only providing a more aesthetically pleasing look but also increasing the surface area for energy generation. For individual households or businesses, using BIPV systems would drastically cut their dependency on electricity from the grid, reducing both environmental impact and electricity costs. Any surplus energy generated could be sold back into the grid (where permissible by law), creating a further financial incentive for BIPV use. In terms of lighting, integrating the BIPV with intelligent LED lighting systems, which adjust their outputs based on natural light levels and room occupancy, would further enhance energy efficiency and energy conservation. Regarding HVAC systems, the electricity produced by the BIPV system can power high-efficiency HVAC systems that make use of environmentally friendly refrigerants. Further, researchers are exploring the recycling of solar panels, which could be an added benefit for the BIPV system in the long run. Governments and businesses should recognize the immense potential of BIPV technology and encourage its implementation through the provision of incentives and education. <endofstring>',\n",
       " '<startofstring> The low-density polyethylene (LPDE) material used to make food packaging and shopping bags makes them unacceptable for recycling more than once. <bot>: Low-density polyethylene (LPDE) bags can only be recycled ONCE because they can interfere with sorting machinery.\\n \\n The initiator used in the production of grocery and shopping bags is ORGANIC PEROXIDE, which poses a risk to human health after recycling. Because of all its harmful effects, this initiator is the primary reason for IMPOSSIBLE RECYCLING. When using organic peroxide in any form of product, a REPLACEMENT or RECYCLEABLE INITIATOR should be used.\\n \\n MAKING OF LPDE:\\n \\n Unreacted gas is first compressed by melting natural gas ethylene to form new first-compression gas. In the second compressor, this newly compressed gas is once again melted with unreacted gases. At this point, a catalyst (organic peroxide) and a second compressed gas are mixed into the reactor. Polymerization occurs at a particular pressure and temperature. The unreacted gases are then separated from the polymerization process to extract the polymers, and now they are finally pelletized. Thereafter, the pellets can be dried by injecting hot air. Now, these pellets are used to make plastic bags. <endofstring>',\n",
       " '<startofstring> Single-use Plastic <bot>: Fast food chains have huge volumes in terms of sales on a daily basis.\\n What happens with all the packaging that they have for each sales? It becomes a waste. \\n This is why introducing reusable, returnable packaging as an effort to slash single-use plastic can be a great solution in terms of circular economy. <endofstring>',\n",
       " \"<startofstring> On a global scale, massive amounts of food gets wasted at a shocking rate. This is particularly prominent in the restaurant and fast-food industry where surplus food and ingredients are often discarded. This rampant food waste not only has a significant environmental impact, but it also overlooks the potential value of these resources that could otherwise be tapped into. <bot>: I envision a unique and exciting solution where restaurants and fast-food chains create partnerships with local composting enterprises. In this system, these businesses would collect their food waste and sell it to composting companies who would then convert this waste into nutrient-rich soil. This soil can be sold back to local agricultural producers or to the general public for home gardening use. Not only does this minimize the amount of food waste going into landfills, it creates a new revenue stream for both the restaurants and the composting companies. Moreover, this rotation completes a full-circle economy where resources are put to best use. It promotes healthy eating, community growth and a sense of unity as we all strive for a greener and healthier earth. This action might seem small, but the collective impact can be massive! Let's turn the tide on food waste and create a tastier and greener future together! <endofstring>\",\n",
       " '<startofstring> Using new technology and developing environmentally friendly materials is also a solution to address the issue of plastic waste. New plastic products developed with environmentally friendly materials will help reduce the amount of plastic waste generated and minimize the impact on the environment. <bot>: Nowadays, plastic waste is becoming a serious issue for the environment and human health. According to some studies, about 8 million tons of plastic waste are dumped into the ocean each year, affecting the lives of millions of marine creatures and humans. To address this issue, we need to find solutions and ideas to mitigate and recycle plastic waste.\\n \\n The most common solution is to reduce the use of plastic waste. This can be done by using alternative products such as paper, wood, metal, and other natural materials.\\n \\n Using reusable products can help reduce the amount of plastic waste generated. You can use cloth bags instead of plastic bags, reusable bottles and jars for drinking water and not using plastic bottles each time.\\n \\n Recycling plastic waste is another solution to reduce the amount of plastic waste generated. We can recycle plastic products such as bottles, bags, and other plastic utensils to create new products and reduce the amount of plastic waste dumped into the environment.\\n \\n Raising community awareness and education about plastic waste is an important solution to address this issue. We can use awareness campaigns to reduce the use of plastic and increase awareness of the impact of plastic waste on the environment.\\n \\n Using new technology and developing environmentally friendly materials is also a solution to address the issue of plastic waste. New plastic products developed with environmentally friendly materials will help reduce the amount of plastic waste generated and minimize the impact on the environment.\\n \\n With the solutions and ideas above, we can contribute to protecting the environment and reducing the impact of plastic waste. However, there are still many challenges to face, and we need cooperation and collective effort to address this issue.\\n \\n Businesses can play an important role in promoting the use of environmentally friendly products and enhancing recycling activities. Governments also need to provide supportive policies to help businesses and individuals implement environmental protection solutions.\\n \\n Moreover, we need to recognize the importance of reducing the use of plastic waste and enhancing community education and awareness of this issue. Each individual can contribute to reducing plastic waste by using eco-friendly products, using fabric bags instead of plastic bags, recycling plastic products, and reducing the amount of plastic waste generated.\\n \\n In the future, it is necessary for all parties to cooperate and make efforts to solve the problem of plastic waste. We need to find innovative and effective solutions to reduce the use and recycling of plastic waste, protect the environment, and ensure the health of humans and living creatures on our planet. <endofstring>',\n",
       " \"<startofstring> How human hair can be used to make clothing material <bot>: Woven fabrics: Hair can be woven into fabrics to create clothing items such as shawls, scarves, and blankets.\\n \\n Knitted garments: Hair can be knitted into garments such as sweaters, hats, and scarves.\\n \\n Felted clothing: Hair can be felted into dense, wool-like material to create clothing items such as jackets, coats, and hats.\\n \\n Braided or plaited designs: Hair can be braided or plaited to create decorative accents for clothing such as trim, tassels, or straps.\\n \\n Lace-making: Hair can be used to create delicate, intricate lace designs for clothing or accessories.\\n \\n Embroidery: Hair can be used as a decorative material in embroidery, adding texture and dimension to clothing items.\\n \\n Yarn spinning: Hair can be spun into yarn, which can be used to knit or weave clothing items.\\n \\n Weaving hair into existing fabrics: Hair can be woven into existing fabrics to create unique, one-of-a-kind clothing items.\\n \\n Hair extensions: Hair can be used to create hair extensions for adding length and volume to natural hair.\\n \\n Wig-making: Hair can be used to create wigs, which can be styled and used to create a wide range of different hairstyles and looks.\\n \\n It's important to note that human hair may not be suitable for all clothing applications, and may pose certain health and hygiene concerns. Additionally, there may be ethical considerations to take into account when using human hair for clothing production. <endofstring>\",\n",
       " \"<startofstring> Landfills are filling up with post-consumer waste from the textile industry, which consists of non-degradable material, harmful chemicals, and dyes. Additionally, this forms a significant part of the waste that finds its way to the oceans, harming marine life. <bot>: The solution is to build an ecosystem around a 'Clothing as a Service' model, which could include a subscription-based clothing rental, an artist platform for clothing customization, and a circular-supply chain powered by textile recycling technologies. The uniqueness of this solution lies in the added layer of customization and making it into an ecosystem. It combines clothing rental, repair, artist promotion, and textile recycling in one model. The clothing rental service would work like the previous model, but be subscription-based to provide more flexibility. A points-based currency could also be introduced, which would allow subscribers to avail higher-value items at discounted rates. An innovation that could set this idea apart is promoting √¢¬Ä¬úwearable art√¢¬Ä¬ù √¢¬Ä¬ì partnering with local artists to customize clothing items for an additional fee, promoting local art culture, plus bringing uniqueness into the rental catalog. To make this model circular, post-consumer and post-rental clothes beyond repair could be sent to partnered recycling plants, where they will be treated and turned back into raw textile materials to produce new clothes. This enhanced model provides significant environmental benefits by reducing textile waste generation, promoting reuse and recycling of clothes. Customizations and recycling efforts can create additional revenue streams while supporting local artists and recycling industries. As for feasibility and scalability, digital platforms and logistics companies can make this operation feasible on a large scale, while partnerships with artists and recycling factories can enable further expansion. A well-implemented model that addresses potential concerns about cleanliness, quality, and variety, as well as a positive marketing campaign showcasing the environmental and financial benefits to consumers, can increase its acceptability. Hence, the solution is not only feasible and scalable, but it also improves community engagement and the green credentials of the fashion industry. <endofstring>\",\n",
       " '<startofstring> Accelerated depletion of natural resources, landfill overflows, environmental pollution from the construction industry, and inadequate recycling of plastic waste. <bot>: Introduction of \"\"Recycled Plastic Building Materials\"\". Plastic can be repurposed into varied construction materials, significantly reducing dependence on traditional resources and minimizing plastic waste. 1. Roofing tiles 2. Reinforced concrete through plastic fibers 3. Indoor insulation 4. Structural lumber (as an alternative to steel and wood) 5. PVC windows (supplanting steel, aluminium, and wooden windows) 6. Recycled plastic bricks, flooring and ceiling tiles 7. Environment-friendly plastic fences 8. Plumbing systems using recycled plastic pipes Circular Economy Contributions: 1. Waste and Pollution Reduction: Recycled plastic construction materials reduce plastic waste, help curb soil pollution associated with mining, and limit landfill accumulation. 2. Product and Material Circulation: Once utilised, these plastic-based construction materials can be recycled again, creating a continuous usage cycle. 3. Nature Regeneration: Finishing materials with wood or stone-like aesthetics can significantly lower demand for real wood or stones, thereby conserving natural resources. Environmental Impact: Reduced landfill usage, lesser pollution caused by plastic waste, and conservation of natural resources. Financial Impact: Affordable construction materials could be introduced in the market, potentially driving down construction costs. Feasibility and Scalability: With the commonality of plastic waste, production could be scaled up quickly, given the necessary investment in recycling facilities and technology. It could become a global solution for sustainable and affordable construction. <endofstring>',\n",
       " '<startofstring> In our fast-paced world, every year billions of electronic devices are sold, and after a relatively short lifespan, they are often discarded resulting in a huge e-waste problem. Not only is e-waste hazardous, but it\\'s also a loss to the industry in terms of valuable resources like precious metals and rare earth elements. <bot>: My solution proposal is an \"\"Electronics Leasing System\"\" where instead of buying gadgets and electronic devices outright, consumers would pay for the usage of the device over a certain period of time. The ownership of the devices remains with the manufacturers. Once the device\\'s lifespan is over, or the consumer wishes to upgrade, the device is returned to the company. This returned device can then be refurbished and leased again or recycled in a controlled, environmentally friendly way to recover valuable resources. This system results in lesser e-waste generation, efficient resource usage, and a financial win for both customers and businesses due to lowered upfront costs and resource recovery. <endofstring>',\n",
       " '<startofstring> Electronic waste, or e-waste, is a major environmental issue. The consumer electronics industry is characterized by high rates of product replacement√¢¬Ä¬îold devices rapidly become waste as consumers chase the latest technology. <bot>: My idea is to introduce a business model where companies adopt a subscription-based service for electronics. Instead of buying a physical product, consumers subscribe to the service, and the company provides them with the latest electronic device. When a new model is introduced, the company reclaims the old models for refurbishment and recirculation or for part harvesting to generate new products. This approach can reduce e-waste and stimulate sustainable business practices. It promotes reuse and recycling of materials, allows for continued technology advancement, and creates a long-term relation between consumers and companies that can lead to sustainable consumption habits. <endofstring>',\n",
       " '<startofstring> Give companies control over Customer Experience and Reputation Online <bot>: Empowering Customer Experiences and unlock hidden opportunities for the company <endofstring>',\n",
       " '<startofstring> EchoMe is an initiative meant to reduce the work load to typing. A software to be developed and accessible globally. It is a voice activated program meant to listen to the voice of the user and automatically type in the words of the user. This directive facilitates easiness of internet use for the disabled and impaired, it is meant to save time, provide higher accuracy, reduce mistakes and further advance the technological dimensions there are. <bot>: EchoMe still as a brainchild, came to me while I was typing an essay for college. And I thought, what if there is a software that I can install on my laptop and it automatically records my voice and types in everything I need to write. EchoMe will be designed to save time. The target audience includes everyone who needs to get something typed, like college students, working class population, even the retired people. The lot of who cannot communicate in writing can use EchoMe to communicate just by talking to the system. It is meant to bring the world together, double productivity, reduce mistakes, ensure accuracy, reduce plagiarism and piracy of work and provide ease of work to users. <endofstring>',\n",
       " \"<startofstring> The chemical industry is grappling with significant challenges like resource scarcity, increasing regulatory pressures, and the need to reduce the adverse environmental footprint. This not only hampers the industry's flexibility and adaptability but also poses a threat to its financial health. <bot>: Let's leverage the concept of Chemical Leasing. Unlike traditional business models where chemical producers sell as much product as possible, Chemical Leasing focuses on selling the function of a chemical. This means that chemical producers and users form a partnership, agreeing to strive for reduced chemical use and a safer, more efficient working process. This model promotes the most efficient use of chemicals, reducing waste and limiting environmental impact. At the same time, it solves the financial challenge by turning a volume-based sales approach into a value-based one, thus aligning the interests of both buyer and seller. This approach is credible, as it has been implemented successfully in various cases like UNIDO's global chemical leasing awards. The solution is feasible and scalable as it doesn't require substantial financial or technological changes and can be applied across various industries and chemical applications. <endofstring>\",\n",
       " \"<startofstring> The fashion industry contributes significantly to waste as outdated, damaged, or unsold clothes are often discarded without any attempt to reuse or recycle them. This not only depletes our resources but also creates harmful environmental impact. <bot>: My innovative and creative solution leverages my talent as a designer and upcycles discarded upholstery fabric and old tank tops into fashionable dresses. This isn't just about recycling. It's about prompting a perceptual shift in how we view waste as a society, transforming something old into something beautiful and desirable. I envision a future where waste reduction is trendy, and every recycled dress becomes a story of transformation. The potential business application is immense √¢¬Ä¬î fashion houses and retail stores can incorporate an upcycled line into their collections. This idea is not only environmentally friendly but could also tap into the growing market of consumers who prioritize sustainable practices. Plus, this concept can be scaled by collaborating with other designers, thrift shops, or fabric waste-producing companies to source reusable materials, making it feasible and scalable. <endofstring>\",\n",
       " '<startofstring> People who suffer with Parkinsons & Essential Tremor trying to put the curser arrow onto the computer screen using the mouse - I have great difficulty as I suffer from this. <bot>: I have none but there are millions of sufferers <endofstring>',\n",
       " '<startofstring> The massive carbon emissions and high energy consumption associated with clay and cement production in factories contribute to environmental degradation. <bot>: Adopt the use of bio-based materials√¢¬Ä¬îlike sustainable timber, bamboo, or hempcrete√¢¬Ä¬îfor construction. These alternate materials consume less energy during production, store carbon, and can be recycled or safely decomposed at the end of their life cycle, committing to the principles of the circular economy. It is also beneficial to encourage architectural designs geared towards resource efficiency, leveraging technologies like 3D printing to minimize waste generation, and promote modular building techniques that allow for the easy disassembly, reuse, and refurbishment of components over time. <endofstring>',\n",
       " \"<startofstring> Electronic devices, particularly smartphones, have short life-cycles and their rapid turnover exacerbates the e-waste problem contributing to significant environmental issues. <bot>: We propose a Smartphone Leasing and Hardware as a Service (HaaS) model. This for-profit initiative involves leasing smartphones to customers with an agreement to return them at the end of the lease period. The returned smartphones are then refurbished and put back into the leasing circulation. Malfunctioning devices are broken down to component level and these components are used to refurbish other smartphones. Above all, this approach discourages consumers' impulse for frequent device upgrades as the responsibility and cost of device disposal would be shifted from consumers to the leasing company. This instil a more sustainable consumer behaviour in technology use while still allowing access to the latest devices. Novelty: This solution not only involves e-waste management but also challenges the traditional device ownership model. It is a financial service, a tech service, and a green initiative rolled into one. Environmental Impact: This system dramatically reduces e-waste by extending product life and resource use. By inhibiting the urge for constant upgrade, it reduces the demand for new devices thus minimizing the exploitation of resources and environmental impact during manufacturing. Financial Impact: This solution could be highly profitable and provides a steady income stream for businesses through leasing revenues. It reduces the purchase barrier, attracting a wider customer base who can access latest tech without hefty upfront costs. Feasibility and Scalability of Implementation: The Solution is quite feasible as it leverages existing smartphone refurbishing techniques and reverse logistics infrastructure. The demand for smartphones is global, making it highly scalable. Regulatory compliance with waste management regulations, and user trust in terms of data security will be critical for success. <endofstring>\",\n",
       " '<startofstring> PLASTIC RECYCLING <bot>: PLASTIC PRODUCTS RECYCLING PROCESS <endofstring>']"
      ]
     },
     "execution_count": 13,
     "metadata": {},
     "output_type": "execute_result"
    }
   ],
   "source": [
    "chatData.dataset.X"
   ]
  },
  {
   "cell_type": "code",
   "execution_count": 7,
   "id": "2ff0b232-6195-4a9d-afb9-0f83742acc57",
   "metadata": {},
   "outputs": [
    {
     "data": {
      "text/plain": [
       "'cuda'"
      ]
     },
     "execution_count": 7,
     "metadata": {},
     "output_type": "execute_result"
    }
   ],
   "source": [
    "device"
   ]
  },
  {
   "cell_type": "code",
   "execution_count": 8,
   "id": "ba9d6a90-b78d-477a-8833-f5d46874c97d",
   "metadata": {},
   "outputs": [],
   "source": [
    "train(chatData, model, optim)"
   ]
  },
  {
   "cell_type": "code",
   "execution_count": 10,
   "id": "8082b38e-8de8-4441-bedc-36e76d314bcd",
   "metadata": {},
   "outputs": [
    {
     "data": {
      "text/plain": [
       "427"
      ]
     },
     "execution_count": 10,
     "metadata": {},
     "output_type": "execute_result"
    }
   ],
   "source": []
  },
  {
   "cell_type": "code",
   "execution_count": 8,
   "id": "e9f73702-8f78-4c2f-bf3a-51286471bf78",
   "metadata": {},
   "outputs": [],
   "source": [
    "df = pd.read_csv(\"./Hackathon - Dataset - Sheet1.csv\")"
   ]
  },
  {
   "cell_type": "code",
   "execution_count": 18,
   "id": "491f5c25-0bde-4ee1-b6e8-e750a0ea91cf",
   "metadata": {},
   "outputs": [
    {
     "data": {
      "text/plain": [
       "'Businesses worldwide expend substantial financial resources on paper-based transaction evidence like printed receipts. This not only adds to operational costs but also contributes to environmental degradation due to paper wastage and lack of recycling.'"
      ]
     },
     "execution_count": 18,
     "metadata": {},
     "output_type": "execute_result"
    }
   ],
   "source": [
    "df['Problem'][5]"
   ]
  },
  {
   "cell_type": "markdown",
   "id": "5d83badc-533c-4541-b3de-7706d35503da",
   "metadata": {},
   "source": [
    "### TinyLLama"
   ]
  },
  {
   "cell_type": "code",
   "execution_count": 1,
   "id": "6d593b0c-7364-440d-99de-ec2e2dfe7cb9",
   "metadata": {},
   "outputs": [
    {
     "name": "stderr",
     "output_type": "stream",
     "text": [
      "C:\\Users\\vmoha\\anaconda3\\envs\\grain\\Lib\\site-packages\\tqdm\\auto.py:21: TqdmWarning: IProgress not found. Please update jupyter and ipywidgets. See https://ipywidgets.readthedocs.io/en/stable/user_install.html\n",
      "  from .autonotebook import tqdm as notebook_tqdm\n",
      "Downloading generation_config.json: 100%|██████████| 124/124 [00:00<?, ?B/s] \n",
      "C:\\Users\\vmoha\\anaconda3\\envs\\grain\\Lib\\site-packages\\huggingface_hub\\file_download.py:133: UserWarning: `huggingface_hub` cache-system uses symlinks by default to efficiently store duplicated files but your machine does not support them in C:\\Users\\vmoha\\.cache\\huggingface\\hub. Caching files will still work but in a degraded version that might require more space on your disk. This warning can be disabled by setting the `HF_HUB_DISABLE_SYMLINKS_WARNING` environment variable. For more details, see https://huggingface.co/docs/huggingface_hub/how-to-cache#limitations.\n",
      "To support symlinks on Windows, you either need to activate Developer Mode or to run Python as an administrator. In order to see activate developer mode, see this article: https://docs.microsoft.com/en-us/windows/apps/get-started/enable-your-device-for-development\n",
      "  warnings.warn(message)\n"
     ]
    },
    {
     "name": "stdout",
     "output_type": "stream",
     "text": [
      "<startofstring> The construction industry is indubitably one of the significant contributors to global waste, contributing approximately 1.3 billion tons of waste annually, exerting significant pressure on our landfills and natural resources. Traditional construction methods entail single-use designs that require frequent demolitions, leading to resource depletion and wastage. <bot>: Herein, we propose an innovative approach to mitigate this problem: Modular Construction. This method embraces recycling and reuse, taking a significant stride towards a circular economy. Modular construction involves utilizing engineered components in a manufacturing facility that are later assembled on-site. These components are designed for easy disassembling, enabling them to be reused in diverse projects, thus significantly reducing waste and conserving resources. Not only does this method decrease construction waste by up to 90%, but it also decreases construction time by 30-50%, optimizing both environmental and financial efficiency. This reduction in time corresponds to substantial financial savings for businesses. Moreover, the modular approach allows greater flexibility, adapting to changing needs over time. We believe, by adopting modular construction, the industry can transit from a 'take, make and dispose' model to a more sustainable 'reduce, reuse, and recycle' model, driving the industry towards a more circular and sustainable future. The feasibility of this concept is already being proven in markets around the globe, indicating its potential for scalability and real-world application. <endofstring>\n"
     ]
    }
   ],
   "source": [
    "from transformers import AutoModelForCausalLM, AutoTokenizer\n",
    "from torch.optim import Adam\n",
    "from torch.utils.data import DataLoader\n",
    "import tqdm\n",
    "import torch\n",
    "from ChatData import ChatData\n",
    "\n",
    "\n",
    "def train(chatData, model, optim, epochs):\n",
    "\n",
    "    for epoch in range(epochs):\n",
    "        for X, a in tqdm.tqdm(chatData):\n",
    "            X = X.to(device)\n",
    "            a = a.to(device)\n",
    "            optim.zero_grad()\n",
    "            loss = model(X, attention_mask=a, labels=X).loss\n",
    "            # X = X.cpu().detach()\n",
    "            print(loss.item())\n",
    "            loss.backward()\n",
    "            optim.step()\n",
    "        torch.save(model.state_dict(), f\"model_state_epoch_{epoch}.pt\")\n",
    "\n",
    "def infer(inp):\n",
    "    inp = \"<startofstring> \" + inp + \" <bot>: \"\n",
    "    inp = tokenizer(inp, return_tensors=\"pt\")\n",
    "    X = inp[\"input_ids\"].to(device)\n",
    "    a = inp[\"attention_mask\"].to(device)\n",
    "    output = model.generate(X, attention_mask=a, max_length=200, num_beams=5, no_repeat_ngram_size=2)\n",
    "    output = tokenizer.decode(output[0], skip_special_tokens=True)\n",
    "    return output\n",
    "\n",
    "# device = \"cuda\" if torch.cuda.is_available() else \"cpu\"\n",
    "device = \"cpu\"\n",
    "\n",
    "tokenizer = AutoTokenizer.from_pretrained(\"TinyLlama/TinyLlama-1.1B-Chat-v1.0\")\n",
    "model = AutoModelForCausalLM.from_pretrained(\"TinyLlama/TinyLlama-1.1B-Chat-v1.0\")\n",
    "model.resize_token_embeddings(len(tokenizer))\n",
    "\n",
    "model = model.to(device)\n",
    "\n",
    "chatData = ChatData(\"./Hackathon - Dataset - Sheet1.csv\", tokenizer)\n",
    "chatData = DataLoader(chatData, batch_size=8)\n",
    "\n",
    "model.train()\n",
    "\n",
    "optim = Adam(model.parameters(), lr=1e-3)"
   ]
  },
  {
   "cell_type": "code",
   "execution_count": 2,
   "id": "a55d2562-c9f9-4ef5-b705-bb1c326250b2",
   "metadata": {
    "collapsed": true,
    "jupyter": {
     "outputs_hidden": true
    }
   },
   "outputs": [
    {
     "name": "stderr",
     "output_type": "stream",
     "text": [
      "  0%|          | 0/6 [00:00<?, ?it/s]"
     ]
    },
    {
     "name": "stdout",
     "output_type": "stream",
     "text": [
      "3.3277106285095215\n"
     ]
    },
    {
     "name": "stderr",
     "output_type": "stream",
     "text": [
      " 17%|█▋        | 1/6 [01:42<08:32, 102.51s/it]"
     ]
    },
    {
     "name": "stdout",
     "output_type": "stream",
     "text": [
      "11.077624320983887\n"
     ]
    },
    {
     "name": "stderr",
     "output_type": "stream",
     "text": [
      " 33%|███▎      | 2/6 [04:05<08:24, 126.12s/it]"
     ]
    },
    {
     "name": "stdout",
     "output_type": "stream",
     "text": [
      "13.548771858215332\n"
     ]
    },
    {
     "name": "stderr",
     "output_type": "stream",
     "text": [
      " 50%|█████     | 3/6 [06:39<06:56, 138.82s/it]"
     ]
    },
    {
     "name": "stdout",
     "output_type": "stream",
     "text": [
      "18.784494400024414\n"
     ]
    },
    {
     "name": "stderr",
     "output_type": "stream",
     "text": [
      " 67%|██████▋   | 4/6 [09:15<04:51, 145.86s/it]"
     ]
    },
    {
     "name": "stdout",
     "output_type": "stream",
     "text": [
      "19.23782730102539\n"
     ]
    },
    {
     "name": "stderr",
     "output_type": "stream",
     "text": [
      " 83%|████████▎ | 5/6 [12:05<02:34, 154.61s/it]"
     ]
    },
    {
     "name": "stdout",
     "output_type": "stream",
     "text": [
      "15.849577903747559\n"
     ]
    },
    {
     "name": "stderr",
     "output_type": "stream",
     "text": [
      "100%|██████████| 6/6 [14:49<00:00, 148.27s/it]\n",
      "  0%|          | 0/6 [00:00<?, ?it/s]"
     ]
    },
    {
     "name": "stdout",
     "output_type": "stream",
     "text": [
      "10.3925199508667\n"
     ]
    },
    {
     "name": "stderr",
     "output_type": "stream",
     "text": [
      " 17%|█▋        | 1/6 [02:09<10:46, 129.32s/it]\n"
     ]
    },
    {
     "ename": "KeyboardInterrupt",
     "evalue": "",
     "output_type": "error",
     "traceback": [
      "\u001b[1;31m---------------------------------------------------------------------------\u001b[0m",
      "\u001b[1;31mKeyboardInterrupt\u001b[0m                         Traceback (most recent call last)",
      "Cell \u001b[1;32mIn[2], line 1\u001b[0m\n\u001b[1;32m----> 1\u001b[0m \u001b[43mtrain\u001b[49m\u001b[43m(\u001b[49m\u001b[43mchatData\u001b[49m\u001b[43m,\u001b[49m\u001b[43m \u001b[49m\u001b[43mmodel\u001b[49m\u001b[43m,\u001b[49m\u001b[43m \u001b[49m\u001b[43moptim\u001b[49m\u001b[43m,\u001b[49m\u001b[43m \u001b[49m\u001b[43mepochs\u001b[49m\u001b[38;5;241;43m=\u001b[39;49m\u001b[38;5;241;43m3\u001b[39;49m\u001b[43m)\u001b[49m  \u001b[38;5;66;03m# You can adjust the number of epochs as needed\u001b[39;00m\n",
      "Cell \u001b[1;32mIn[1], line 16\u001b[0m, in \u001b[0;36mtrain\u001b[1;34m(chatData, model, optim, epochs)\u001b[0m\n\u001b[0;32m     14\u001b[0m a \u001b[38;5;241m=\u001b[39m a\u001b[38;5;241m.\u001b[39mto(device)\n\u001b[0;32m     15\u001b[0m optim\u001b[38;5;241m.\u001b[39mzero_grad()\n\u001b[1;32m---> 16\u001b[0m loss \u001b[38;5;241m=\u001b[39m \u001b[43mmodel\u001b[49m\u001b[43m(\u001b[49m\u001b[43mX\u001b[49m\u001b[43m,\u001b[49m\u001b[43m \u001b[49m\u001b[43mattention_mask\u001b[49m\u001b[38;5;241;43m=\u001b[39;49m\u001b[43ma\u001b[49m\u001b[43m,\u001b[49m\u001b[43m \u001b[49m\u001b[43mlabels\u001b[49m\u001b[38;5;241;43m=\u001b[39;49m\u001b[43mX\u001b[49m\u001b[43m)\u001b[49m\u001b[38;5;241m.\u001b[39mloss\n\u001b[0;32m     17\u001b[0m \u001b[38;5;66;03m# X = X.cpu().detach()\u001b[39;00m\n\u001b[0;32m     18\u001b[0m \u001b[38;5;28mprint\u001b[39m(loss\u001b[38;5;241m.\u001b[39mitem())\n",
      "File \u001b[1;32m~\\anaconda3\\envs\\grain\\Lib\\site-packages\\torch\\nn\\modules\\module.py:1501\u001b[0m, in \u001b[0;36mModule._call_impl\u001b[1;34m(self, *args, **kwargs)\u001b[0m\n\u001b[0;32m   1496\u001b[0m \u001b[38;5;66;03m# If we don't have any hooks, we want to skip the rest of the logic in\u001b[39;00m\n\u001b[0;32m   1497\u001b[0m \u001b[38;5;66;03m# this function, and just call forward.\u001b[39;00m\n\u001b[0;32m   1498\u001b[0m \u001b[38;5;28;01mif\u001b[39;00m \u001b[38;5;129;01mnot\u001b[39;00m (\u001b[38;5;28mself\u001b[39m\u001b[38;5;241m.\u001b[39m_backward_hooks \u001b[38;5;129;01mor\u001b[39;00m \u001b[38;5;28mself\u001b[39m\u001b[38;5;241m.\u001b[39m_backward_pre_hooks \u001b[38;5;129;01mor\u001b[39;00m \u001b[38;5;28mself\u001b[39m\u001b[38;5;241m.\u001b[39m_forward_hooks \u001b[38;5;129;01mor\u001b[39;00m \u001b[38;5;28mself\u001b[39m\u001b[38;5;241m.\u001b[39m_forward_pre_hooks\n\u001b[0;32m   1499\u001b[0m         \u001b[38;5;129;01mor\u001b[39;00m _global_backward_pre_hooks \u001b[38;5;129;01mor\u001b[39;00m _global_backward_hooks\n\u001b[0;32m   1500\u001b[0m         \u001b[38;5;129;01mor\u001b[39;00m _global_forward_hooks \u001b[38;5;129;01mor\u001b[39;00m _global_forward_pre_hooks):\n\u001b[1;32m-> 1501\u001b[0m     \u001b[38;5;28;01mreturn\u001b[39;00m \u001b[43mforward_call\u001b[49m\u001b[43m(\u001b[49m\u001b[38;5;241;43m*\u001b[39;49m\u001b[43margs\u001b[49m\u001b[43m,\u001b[49m\u001b[43m \u001b[49m\u001b[38;5;241;43m*\u001b[39;49m\u001b[38;5;241;43m*\u001b[39;49m\u001b[43mkwargs\u001b[49m\u001b[43m)\u001b[49m\n\u001b[0;32m   1502\u001b[0m \u001b[38;5;66;03m# Do not call functions when jit is used\u001b[39;00m\n\u001b[0;32m   1503\u001b[0m full_backward_hooks, non_full_backward_hooks \u001b[38;5;241m=\u001b[39m [], []\n",
      "File \u001b[1;32m~\\AppData\\Roaming\\Python\\Python311\\site-packages\\transformers\\models\\llama\\modeling_llama.py:1034\u001b[0m, in \u001b[0;36mLlamaForCausalLM.forward\u001b[1;34m(self, input_ids, attention_mask, position_ids, past_key_values, inputs_embeds, labels, use_cache, output_attentions, output_hidden_states, return_dict)\u001b[0m\n\u001b[0;32m   1031\u001b[0m return_dict \u001b[38;5;241m=\u001b[39m return_dict \u001b[38;5;28;01mif\u001b[39;00m return_dict \u001b[38;5;129;01mis\u001b[39;00m \u001b[38;5;129;01mnot\u001b[39;00m \u001b[38;5;28;01mNone\u001b[39;00m \u001b[38;5;28;01melse\u001b[39;00m \u001b[38;5;28mself\u001b[39m\u001b[38;5;241m.\u001b[39mconfig\u001b[38;5;241m.\u001b[39muse_return_dict\n\u001b[0;32m   1033\u001b[0m \u001b[38;5;66;03m# decoder outputs consists of (dec_features, layer_state, dec_hidden, dec_attn)\u001b[39;00m\n\u001b[1;32m-> 1034\u001b[0m outputs \u001b[38;5;241m=\u001b[39m \u001b[38;5;28;43mself\u001b[39;49m\u001b[38;5;241;43m.\u001b[39;49m\u001b[43mmodel\u001b[49m\u001b[43m(\u001b[49m\n\u001b[0;32m   1035\u001b[0m \u001b[43m    \u001b[49m\u001b[43minput_ids\u001b[49m\u001b[38;5;241;43m=\u001b[39;49m\u001b[43minput_ids\u001b[49m\u001b[43m,\u001b[49m\n\u001b[0;32m   1036\u001b[0m \u001b[43m    \u001b[49m\u001b[43mattention_mask\u001b[49m\u001b[38;5;241;43m=\u001b[39;49m\u001b[43mattention_mask\u001b[49m\u001b[43m,\u001b[49m\n\u001b[0;32m   1037\u001b[0m \u001b[43m    \u001b[49m\u001b[43mposition_ids\u001b[49m\u001b[38;5;241;43m=\u001b[39;49m\u001b[43mposition_ids\u001b[49m\u001b[43m,\u001b[49m\n\u001b[0;32m   1038\u001b[0m \u001b[43m    \u001b[49m\u001b[43mpast_key_values\u001b[49m\u001b[38;5;241;43m=\u001b[39;49m\u001b[43mpast_key_values\u001b[49m\u001b[43m,\u001b[49m\n\u001b[0;32m   1039\u001b[0m \u001b[43m    \u001b[49m\u001b[43minputs_embeds\u001b[49m\u001b[38;5;241;43m=\u001b[39;49m\u001b[43minputs_embeds\u001b[49m\u001b[43m,\u001b[49m\n\u001b[0;32m   1040\u001b[0m \u001b[43m    \u001b[49m\u001b[43muse_cache\u001b[49m\u001b[38;5;241;43m=\u001b[39;49m\u001b[43muse_cache\u001b[49m\u001b[43m,\u001b[49m\n\u001b[0;32m   1041\u001b[0m \u001b[43m    \u001b[49m\u001b[43moutput_attentions\u001b[49m\u001b[38;5;241;43m=\u001b[39;49m\u001b[43moutput_attentions\u001b[49m\u001b[43m,\u001b[49m\n\u001b[0;32m   1042\u001b[0m \u001b[43m    \u001b[49m\u001b[43moutput_hidden_states\u001b[49m\u001b[38;5;241;43m=\u001b[39;49m\u001b[43moutput_hidden_states\u001b[49m\u001b[43m,\u001b[49m\n\u001b[0;32m   1043\u001b[0m \u001b[43m    \u001b[49m\u001b[43mreturn_dict\u001b[49m\u001b[38;5;241;43m=\u001b[39;49m\u001b[43mreturn_dict\u001b[49m\u001b[43m,\u001b[49m\n\u001b[0;32m   1044\u001b[0m \u001b[43m\u001b[49m\u001b[43m)\u001b[49m\n\u001b[0;32m   1046\u001b[0m hidden_states \u001b[38;5;241m=\u001b[39m outputs[\u001b[38;5;241m0\u001b[39m]\n\u001b[0;32m   1047\u001b[0m \u001b[38;5;28;01mif\u001b[39;00m \u001b[38;5;28mself\u001b[39m\u001b[38;5;241m.\u001b[39mconfig\u001b[38;5;241m.\u001b[39mpretraining_tp \u001b[38;5;241m>\u001b[39m \u001b[38;5;241m1\u001b[39m:\n",
      "File \u001b[1;32m~\\anaconda3\\envs\\grain\\Lib\\site-packages\\torch\\nn\\modules\\module.py:1501\u001b[0m, in \u001b[0;36mModule._call_impl\u001b[1;34m(self, *args, **kwargs)\u001b[0m\n\u001b[0;32m   1496\u001b[0m \u001b[38;5;66;03m# If we don't have any hooks, we want to skip the rest of the logic in\u001b[39;00m\n\u001b[0;32m   1497\u001b[0m \u001b[38;5;66;03m# this function, and just call forward.\u001b[39;00m\n\u001b[0;32m   1498\u001b[0m \u001b[38;5;28;01mif\u001b[39;00m \u001b[38;5;129;01mnot\u001b[39;00m (\u001b[38;5;28mself\u001b[39m\u001b[38;5;241m.\u001b[39m_backward_hooks \u001b[38;5;129;01mor\u001b[39;00m \u001b[38;5;28mself\u001b[39m\u001b[38;5;241m.\u001b[39m_backward_pre_hooks \u001b[38;5;129;01mor\u001b[39;00m \u001b[38;5;28mself\u001b[39m\u001b[38;5;241m.\u001b[39m_forward_hooks \u001b[38;5;129;01mor\u001b[39;00m \u001b[38;5;28mself\u001b[39m\u001b[38;5;241m.\u001b[39m_forward_pre_hooks\n\u001b[0;32m   1499\u001b[0m         \u001b[38;5;129;01mor\u001b[39;00m _global_backward_pre_hooks \u001b[38;5;129;01mor\u001b[39;00m _global_backward_hooks\n\u001b[0;32m   1500\u001b[0m         \u001b[38;5;129;01mor\u001b[39;00m _global_forward_hooks \u001b[38;5;129;01mor\u001b[39;00m _global_forward_pre_hooks):\n\u001b[1;32m-> 1501\u001b[0m     \u001b[38;5;28;01mreturn\u001b[39;00m \u001b[43mforward_call\u001b[49m\u001b[43m(\u001b[49m\u001b[38;5;241;43m*\u001b[39;49m\u001b[43margs\u001b[49m\u001b[43m,\u001b[49m\u001b[43m \u001b[49m\u001b[38;5;241;43m*\u001b[39;49m\u001b[38;5;241;43m*\u001b[39;49m\u001b[43mkwargs\u001b[49m\u001b[43m)\u001b[49m\n\u001b[0;32m   1502\u001b[0m \u001b[38;5;66;03m# Do not call functions when jit is used\u001b[39;00m\n\u001b[0;32m   1503\u001b[0m full_backward_hooks, non_full_backward_hooks \u001b[38;5;241m=\u001b[39m [], []\n",
      "File \u001b[1;32m~\\AppData\\Roaming\\Python\\Python311\\site-packages\\transformers\\models\\llama\\modeling_llama.py:922\u001b[0m, in \u001b[0;36mLlamaModel.forward\u001b[1;34m(self, input_ids, attention_mask, position_ids, past_key_values, inputs_embeds, use_cache, output_attentions, output_hidden_states, return_dict)\u001b[0m\n\u001b[0;32m    912\u001b[0m     layer_outputs \u001b[38;5;241m=\u001b[39m \u001b[38;5;28mself\u001b[39m\u001b[38;5;241m.\u001b[39m_gradient_checkpointing_func(\n\u001b[0;32m    913\u001b[0m         decoder_layer\u001b[38;5;241m.\u001b[39m\u001b[38;5;21m__call__\u001b[39m,\n\u001b[0;32m    914\u001b[0m         hidden_states,\n\u001b[1;32m   (...)\u001b[0m\n\u001b[0;32m    919\u001b[0m         use_cache,\n\u001b[0;32m    920\u001b[0m     )\n\u001b[0;32m    921\u001b[0m \u001b[38;5;28;01melse\u001b[39;00m:\n\u001b[1;32m--> 922\u001b[0m     layer_outputs \u001b[38;5;241m=\u001b[39m \u001b[43mdecoder_layer\u001b[49m\u001b[43m(\u001b[49m\n\u001b[0;32m    923\u001b[0m \u001b[43m        \u001b[49m\u001b[43mhidden_states\u001b[49m\u001b[43m,\u001b[49m\n\u001b[0;32m    924\u001b[0m \u001b[43m        \u001b[49m\u001b[43mattention_mask\u001b[49m\u001b[38;5;241;43m=\u001b[39;49m\u001b[43mattention_mask\u001b[49m\u001b[43m,\u001b[49m\n\u001b[0;32m    925\u001b[0m \u001b[43m        \u001b[49m\u001b[43mposition_ids\u001b[49m\u001b[38;5;241;43m=\u001b[39;49m\u001b[43mposition_ids\u001b[49m\u001b[43m,\u001b[49m\n\u001b[0;32m    926\u001b[0m \u001b[43m        \u001b[49m\u001b[43mpast_key_value\u001b[49m\u001b[38;5;241;43m=\u001b[39;49m\u001b[43mpast_key_value\u001b[49m\u001b[43m,\u001b[49m\n\u001b[0;32m    927\u001b[0m \u001b[43m        \u001b[49m\u001b[43moutput_attentions\u001b[49m\u001b[38;5;241;43m=\u001b[39;49m\u001b[43moutput_attentions\u001b[49m\u001b[43m,\u001b[49m\n\u001b[0;32m    928\u001b[0m \u001b[43m        \u001b[49m\u001b[43muse_cache\u001b[49m\u001b[38;5;241;43m=\u001b[39;49m\u001b[43muse_cache\u001b[49m\u001b[43m,\u001b[49m\n\u001b[0;32m    929\u001b[0m \u001b[43m    \u001b[49m\u001b[43m)\u001b[49m\n\u001b[0;32m    931\u001b[0m hidden_states \u001b[38;5;241m=\u001b[39m layer_outputs[\u001b[38;5;241m0\u001b[39m]\n\u001b[0;32m    933\u001b[0m \u001b[38;5;28;01mif\u001b[39;00m use_cache:\n",
      "File \u001b[1;32m~\\anaconda3\\envs\\grain\\Lib\\site-packages\\torch\\nn\\modules\\module.py:1501\u001b[0m, in \u001b[0;36mModule._call_impl\u001b[1;34m(self, *args, **kwargs)\u001b[0m\n\u001b[0;32m   1496\u001b[0m \u001b[38;5;66;03m# If we don't have any hooks, we want to skip the rest of the logic in\u001b[39;00m\n\u001b[0;32m   1497\u001b[0m \u001b[38;5;66;03m# this function, and just call forward.\u001b[39;00m\n\u001b[0;32m   1498\u001b[0m \u001b[38;5;28;01mif\u001b[39;00m \u001b[38;5;129;01mnot\u001b[39;00m (\u001b[38;5;28mself\u001b[39m\u001b[38;5;241m.\u001b[39m_backward_hooks \u001b[38;5;129;01mor\u001b[39;00m \u001b[38;5;28mself\u001b[39m\u001b[38;5;241m.\u001b[39m_backward_pre_hooks \u001b[38;5;129;01mor\u001b[39;00m \u001b[38;5;28mself\u001b[39m\u001b[38;5;241m.\u001b[39m_forward_hooks \u001b[38;5;129;01mor\u001b[39;00m \u001b[38;5;28mself\u001b[39m\u001b[38;5;241m.\u001b[39m_forward_pre_hooks\n\u001b[0;32m   1499\u001b[0m         \u001b[38;5;129;01mor\u001b[39;00m _global_backward_pre_hooks \u001b[38;5;129;01mor\u001b[39;00m _global_backward_hooks\n\u001b[0;32m   1500\u001b[0m         \u001b[38;5;129;01mor\u001b[39;00m _global_forward_hooks \u001b[38;5;129;01mor\u001b[39;00m _global_forward_pre_hooks):\n\u001b[1;32m-> 1501\u001b[0m     \u001b[38;5;28;01mreturn\u001b[39;00m \u001b[43mforward_call\u001b[49m\u001b[43m(\u001b[49m\u001b[38;5;241;43m*\u001b[39;49m\u001b[43margs\u001b[49m\u001b[43m,\u001b[49m\u001b[43m \u001b[49m\u001b[38;5;241;43m*\u001b[39;49m\u001b[38;5;241;43m*\u001b[39;49m\u001b[43mkwargs\u001b[49m\u001b[43m)\u001b[49m\n\u001b[0;32m   1502\u001b[0m \u001b[38;5;66;03m# Do not call functions when jit is used\u001b[39;00m\n\u001b[0;32m   1503\u001b[0m full_backward_hooks, non_full_backward_hooks \u001b[38;5;241m=\u001b[39m [], []\n",
      "File \u001b[1;32m~\\AppData\\Roaming\\Python\\Python311\\site-packages\\transformers\\models\\llama\\modeling_llama.py:672\u001b[0m, in \u001b[0;36mLlamaDecoderLayer.forward\u001b[1;34m(self, hidden_states, attention_mask, position_ids, past_key_value, output_attentions, use_cache, **kwargs)\u001b[0m\n\u001b[0;32m    669\u001b[0m hidden_states \u001b[38;5;241m=\u001b[39m \u001b[38;5;28mself\u001b[39m\u001b[38;5;241m.\u001b[39minput_layernorm(hidden_states)\n\u001b[0;32m    671\u001b[0m \u001b[38;5;66;03m# Self Attention\u001b[39;00m\n\u001b[1;32m--> 672\u001b[0m hidden_states, self_attn_weights, present_key_value \u001b[38;5;241m=\u001b[39m \u001b[38;5;28;43mself\u001b[39;49m\u001b[38;5;241;43m.\u001b[39;49m\u001b[43mself_attn\u001b[49m\u001b[43m(\u001b[49m\n\u001b[0;32m    673\u001b[0m \u001b[43m    \u001b[49m\u001b[43mhidden_states\u001b[49m\u001b[38;5;241;43m=\u001b[39;49m\u001b[43mhidden_states\u001b[49m\u001b[43m,\u001b[49m\n\u001b[0;32m    674\u001b[0m \u001b[43m    \u001b[49m\u001b[43mattention_mask\u001b[49m\u001b[38;5;241;43m=\u001b[39;49m\u001b[43mattention_mask\u001b[49m\u001b[43m,\u001b[49m\n\u001b[0;32m    675\u001b[0m \u001b[43m    \u001b[49m\u001b[43mposition_ids\u001b[49m\u001b[38;5;241;43m=\u001b[39;49m\u001b[43mposition_ids\u001b[49m\u001b[43m,\u001b[49m\n\u001b[0;32m    676\u001b[0m \u001b[43m    \u001b[49m\u001b[43mpast_key_value\u001b[49m\u001b[38;5;241;43m=\u001b[39;49m\u001b[43mpast_key_value\u001b[49m\u001b[43m,\u001b[49m\n\u001b[0;32m    677\u001b[0m \u001b[43m    \u001b[49m\u001b[43moutput_attentions\u001b[49m\u001b[38;5;241;43m=\u001b[39;49m\u001b[43moutput_attentions\u001b[49m\u001b[43m,\u001b[49m\n\u001b[0;32m    678\u001b[0m \u001b[43m    \u001b[49m\u001b[43muse_cache\u001b[49m\u001b[38;5;241;43m=\u001b[39;49m\u001b[43muse_cache\u001b[49m\u001b[43m,\u001b[49m\n\u001b[0;32m    679\u001b[0m \u001b[43m    \u001b[49m\u001b[38;5;241;43m*\u001b[39;49m\u001b[38;5;241;43m*\u001b[39;49m\u001b[43mkwargs\u001b[49m\u001b[43m,\u001b[49m\n\u001b[0;32m    680\u001b[0m \u001b[43m\u001b[49m\u001b[43m)\u001b[49m\n\u001b[0;32m    681\u001b[0m hidden_states \u001b[38;5;241m=\u001b[39m residual \u001b[38;5;241m+\u001b[39m hidden_states\n\u001b[0;32m    683\u001b[0m \u001b[38;5;66;03m# Fully Connected\u001b[39;00m\n",
      "File \u001b[1;32m~\\anaconda3\\envs\\grain\\Lib\\site-packages\\torch\\nn\\modules\\module.py:1501\u001b[0m, in \u001b[0;36mModule._call_impl\u001b[1;34m(self, *args, **kwargs)\u001b[0m\n\u001b[0;32m   1496\u001b[0m \u001b[38;5;66;03m# If we don't have any hooks, we want to skip the rest of the logic in\u001b[39;00m\n\u001b[0;32m   1497\u001b[0m \u001b[38;5;66;03m# this function, and just call forward.\u001b[39;00m\n\u001b[0;32m   1498\u001b[0m \u001b[38;5;28;01mif\u001b[39;00m \u001b[38;5;129;01mnot\u001b[39;00m (\u001b[38;5;28mself\u001b[39m\u001b[38;5;241m.\u001b[39m_backward_hooks \u001b[38;5;129;01mor\u001b[39;00m \u001b[38;5;28mself\u001b[39m\u001b[38;5;241m.\u001b[39m_backward_pre_hooks \u001b[38;5;129;01mor\u001b[39;00m \u001b[38;5;28mself\u001b[39m\u001b[38;5;241m.\u001b[39m_forward_hooks \u001b[38;5;129;01mor\u001b[39;00m \u001b[38;5;28mself\u001b[39m\u001b[38;5;241m.\u001b[39m_forward_pre_hooks\n\u001b[0;32m   1499\u001b[0m         \u001b[38;5;129;01mor\u001b[39;00m _global_backward_pre_hooks \u001b[38;5;129;01mor\u001b[39;00m _global_backward_hooks\n\u001b[0;32m   1500\u001b[0m         \u001b[38;5;129;01mor\u001b[39;00m _global_forward_hooks \u001b[38;5;129;01mor\u001b[39;00m _global_forward_pre_hooks):\n\u001b[1;32m-> 1501\u001b[0m     \u001b[38;5;28;01mreturn\u001b[39;00m \u001b[43mforward_call\u001b[49m\u001b[43m(\u001b[49m\u001b[38;5;241;43m*\u001b[39;49m\u001b[43margs\u001b[49m\u001b[43m,\u001b[49m\u001b[43m \u001b[49m\u001b[38;5;241;43m*\u001b[39;49m\u001b[38;5;241;43m*\u001b[39;49m\u001b[43mkwargs\u001b[49m\u001b[43m)\u001b[49m\n\u001b[0;32m   1502\u001b[0m \u001b[38;5;66;03m# Do not call functions when jit is used\u001b[39;00m\n\u001b[0;32m   1503\u001b[0m full_backward_hooks, non_full_backward_hooks \u001b[38;5;241m=\u001b[39m [], []\n",
      "File \u001b[1;32m~\\AppData\\Roaming\\Python\\Python311\\site-packages\\transformers\\models\\llama\\modeling_llama.py:392\u001b[0m, in \u001b[0;36mLlamaAttention.forward\u001b[1;34m(self, hidden_states, attention_mask, position_ids, past_key_value, output_attentions, use_cache, **kwargs)\u001b[0m\n\u001b[0;32m    388\u001b[0m value_states \u001b[38;5;241m=\u001b[39m repeat_kv(value_states, \u001b[38;5;28mself\u001b[39m\u001b[38;5;241m.\u001b[39mnum_key_value_groups)\n\u001b[0;32m    390\u001b[0m attn_weights \u001b[38;5;241m=\u001b[39m torch\u001b[38;5;241m.\u001b[39mmatmul(query_states, key_states\u001b[38;5;241m.\u001b[39mtranspose(\u001b[38;5;241m2\u001b[39m, \u001b[38;5;241m3\u001b[39m)) \u001b[38;5;241m/\u001b[39m math\u001b[38;5;241m.\u001b[39msqrt(\u001b[38;5;28mself\u001b[39m\u001b[38;5;241m.\u001b[39mhead_dim)\n\u001b[1;32m--> 392\u001b[0m \u001b[38;5;28;01mif\u001b[39;00m \u001b[43mattn_weights\u001b[49m\u001b[38;5;241;43m.\u001b[39;49m\u001b[43msize\u001b[49m\u001b[43m(\u001b[49m\u001b[43m)\u001b[49m \u001b[38;5;241m!=\u001b[39m (bsz, \u001b[38;5;28mself\u001b[39m\u001b[38;5;241m.\u001b[39mnum_heads, q_len, kv_seq_len):\n\u001b[0;32m    393\u001b[0m     \u001b[38;5;28;01mraise\u001b[39;00m \u001b[38;5;167;01mValueError\u001b[39;00m(\n\u001b[0;32m    394\u001b[0m         \u001b[38;5;124mf\u001b[39m\u001b[38;5;124m\"\u001b[39m\u001b[38;5;124mAttention weights should be of size \u001b[39m\u001b[38;5;132;01m{\u001b[39;00m(bsz,\u001b[38;5;250m \u001b[39m\u001b[38;5;28mself\u001b[39m\u001b[38;5;241m.\u001b[39mnum_heads,\u001b[38;5;250m \u001b[39mq_len,\u001b[38;5;250m \u001b[39mkv_seq_len)\u001b[38;5;132;01m}\u001b[39;00m\u001b[38;5;124m, but is\u001b[39m\u001b[38;5;124m\"\u001b[39m\n\u001b[0;32m    395\u001b[0m         \u001b[38;5;124mf\u001b[39m\u001b[38;5;124m\"\u001b[39m\u001b[38;5;124m \u001b[39m\u001b[38;5;132;01m{\u001b[39;00mattn_weights\u001b[38;5;241m.\u001b[39msize()\u001b[38;5;132;01m}\u001b[39;00m\u001b[38;5;124m\"\u001b[39m\n\u001b[0;32m    396\u001b[0m     )\n\u001b[0;32m    398\u001b[0m \u001b[38;5;28;01mif\u001b[39;00m attention_mask \u001b[38;5;129;01mis\u001b[39;00m \u001b[38;5;129;01mnot\u001b[39;00m \u001b[38;5;28;01mNone\u001b[39;00m:\n",
      "\u001b[1;31mKeyboardInterrupt\u001b[0m: "
     ]
    }
   ],
   "source": [
    "train(chatData, model, optim, epochs=3)  # You can adjust the number of epochs as needed"
   ]
  },
  {
   "cell_type": "code",
   "execution_count": 3,
   "id": "f1db6170-19e4-4ae3-9aa1-e303352e8a1a",
   "metadata": {},
   "outputs": [
    {
     "data": {
      "text/plain": [
       "'<startofstring> Businesses worldwide expend substantial financial resources on paper-based transaction evidence like printed receipts. This not only adds to operational costs but also contributes to environmental degradation due to paper wastage and lack of recycling. <bot>: ofof>>of devicesof>:of energyofesof likeof significantof productionof massiveof toofbotof shortof plof oftenofienceof particularlyof clof sustof fashionof electronicofasticofLAofacof industryofagedof haveof theirof eof clothesof issueofuresof greatofributesof computeroficof pressof Essof replacementofatedofovenofallyof environmentof significantlyof Parkof areof reduceof productoferbof curof environmentalof factof Electronof productsofodaofutionof recof highofyof discof theof characterofoldofayof electronof Thisof attemptof increasingof lifeof'"
      ]
     },
     "execution_count": 3,
     "metadata": {},
     "output_type": "execute_result"
    }
   ],
   "source": [
    "infer(\"Businesses worldwide expend substantial financial resources on paper-based transaction evidence like printed receipts. This not only adds to operational costs but also contributes to environmental degradation due to paper wastage and lack of recycling.\")"
   ]
  },
  {
   "cell_type": "code",
   "execution_count": 4,
   "id": "c861deb0-bbb7-4d8b-bffe-796e027d9d25",
   "metadata": {},
   "outputs": [
    {
     "name": "stdout",
     "output_type": "stream",
     "text": [
      "Generated Response: Propose a solution for this problem: Businesses worldwide expend substantial financial resources on paper-based transaction evidence like printed receipts. This not only adds to operational costs but also contributes to environmental degradation due to paper wastage and lack of recycling.\n",
      "\n",
      "Solution:\n",
      "1. Implement a digital payment system that uses blockchain technology to store transaction data securely. The system can be integrated with existing payment systems to provide a seamless payment experience. \n",
      "2. Use biometric authentication to secure transactions. Biometric data can include fingerprints, facial recognition, or iris scans. These methods can reduce the risk of fraud and ensure that only authorized users can access sensitive information.  \n",
      "3. Provide a mobile app that allows users to track their transactions and view their transaction history. Users can also receive alerts when their payment is pending or when a transaction is declined.   \n",
      "4. Incentivize users by offering discounts or rewards for using the digital wallet. For example, users who make frequent purchases can earn points that can later be redeemed for discounters.    \n",
      "5. Collaborate with financial institutions to offer digital banking services to customers. Digital wallets can provide customers with access to bank accounts, credit cards, and other financial services.     \n",
      "6. Educate customers about the benefits of digital payments\n"
     ]
    }
   ],
   "source": [
    "from transformers import AutoModelForCausalLM, AutoTokenizer\n",
    "import torch\n",
    "\n",
    "model_name = \"TinyLlama/TinyLlama-1.1B-Chat-v1.0\"\n",
    "model = AutoModelForCausalLM.from_pretrained(model_name)\n",
    "tokenizer = AutoTokenizer.from_pretrained(model_name)\n",
    "device = \"cuda\" if torch.cuda.is_available() else \"cpu\"\n",
    "\n",
    "def generate_response(prompt, max_length=300, num_return_sequences=1):\n",
    "    # Tokenize and encode the prompt\n",
    "    input_ids = tokenizer.encode(prompt, return_tensors=\"pt\")\n",
    "\n",
    "    # Move input_ids to the same device as the model\n",
    "    input_ids = input_ids.to(device)\n",
    "\n",
    "    # Move model to the same device as input_ids\n",
    "    model.to(input_ids.device)\n",
    "\n",
    "    # Generate response\n",
    "    output_ids = model.generate(input_ids, max_length=max_length, num_return_sequences=num_return_sequences, no_repeat_ngram_size=2)\n",
    "\n",
    "    # Decode and return the generated response\n",
    "    generated_response = tokenizer.decode(output_ids[0], skip_special_tokens=True)\n",
    "    \n",
    "    return generated_response\n",
    "\n",
    "# Example usage\n",
    "prompt = \"Propose a solution for this problem: Businesses worldwide expend substantial financial resources on paper-based transaction evidence like printed receipts. This not only adds to operational costs but also contributes to environmental degradation due to paper wastage and lack of recycling.\"\n",
    "response = generate_response(prompt)\n",
    "print(\"Generated Response:\", response)\n"
   ]
  },
  {
   "cell_type": "code",
   "execution_count": 7,
   "id": "7c865a7e-cfa8-41f7-97d0-1f160fc5773e",
   "metadata": {},
   "outputs": [],
   "source": [
    "torch.save(model.state_dict(), \"tinyllama_untrained.pth\")"
   ]
  },
  {
   "cell_type": "code",
   "execution_count": 8,
   "id": "d3f3c802-1a2b-4fbd-ad6f-d79a6fdedf17",
   "metadata": {},
   "outputs": [
    {
     "ename": "OSError",
     "evalue": "AutoModelForCausalLM is designed to be instantiated using the `AutoModelForCausalLM.from_pretrained(pretrained_model_name_or_path)` or `AutoModelForCausalLM.from_config(config)` methods.",
     "output_type": "error",
     "traceback": [
      "\u001b[1;31m---------------------------------------------------------------------------\u001b[0m",
      "\u001b[1;31mOSError\u001b[0m                                   Traceback (most recent call last)",
      "Cell \u001b[1;32mIn[8], line 1\u001b[0m\n\u001b[1;32m----> 1\u001b[0m model \u001b[38;5;241m=\u001b[39m \u001b[43mAutoModelForCausalLM\u001b[49m\u001b[43m(\u001b[49m\u001b[43m)\u001b[49m\n\u001b[0;32m      2\u001b[0m model\u001b[38;5;241m.\u001b[39mload_state_dict(torch\u001b[38;5;241m.\u001b[39mload(\u001b[38;5;124m\"\u001b[39m\u001b[38;5;124m./tinyllama_untrained.pth\u001b[39m\u001b[38;5;124m\"\u001b[39m))\n\u001b[0;32m      3\u001b[0m model\u001b[38;5;241m.\u001b[39meval()\n",
      "File \u001b[1;32m~\\AppData\\Roaming\\Python\\Python311\\site-packages\\transformers\\models\\auto\\auto_factory.py:411\u001b[0m, in \u001b[0;36m_BaseAutoModelClass.__init__\u001b[1;34m(self, *args, **kwargs)\u001b[0m\n\u001b[0;32m    410\u001b[0m \u001b[38;5;28;01mdef\u001b[39;00m \u001b[38;5;21m__init__\u001b[39m(\u001b[38;5;28mself\u001b[39m, \u001b[38;5;241m*\u001b[39margs, \u001b[38;5;241m*\u001b[39m\u001b[38;5;241m*\u001b[39mkwargs):\n\u001b[1;32m--> 411\u001b[0m     \u001b[38;5;28;01mraise\u001b[39;00m \u001b[38;5;167;01mEnvironmentError\u001b[39;00m(\n\u001b[0;32m    412\u001b[0m         \u001b[38;5;124mf\u001b[39m\u001b[38;5;124m\"\u001b[39m\u001b[38;5;132;01m{\u001b[39;00m\u001b[38;5;28mself\u001b[39m\u001b[38;5;241m.\u001b[39m\u001b[38;5;18m__class__\u001b[39m\u001b[38;5;241m.\u001b[39m\u001b[38;5;18m__name__\u001b[39m\u001b[38;5;132;01m}\u001b[39;00m\u001b[38;5;124m is designed to be instantiated \u001b[39m\u001b[38;5;124m\"\u001b[39m\n\u001b[0;32m    413\u001b[0m         \u001b[38;5;124mf\u001b[39m\u001b[38;5;124m\"\u001b[39m\u001b[38;5;124musing the `\u001b[39m\u001b[38;5;132;01m{\u001b[39;00m\u001b[38;5;28mself\u001b[39m\u001b[38;5;241m.\u001b[39m\u001b[38;5;18m__class__\u001b[39m\u001b[38;5;241m.\u001b[39m\u001b[38;5;18m__name__\u001b[39m\u001b[38;5;132;01m}\u001b[39;00m\u001b[38;5;124m.from_pretrained(pretrained_model_name_or_path)` or \u001b[39m\u001b[38;5;124m\"\u001b[39m\n\u001b[0;32m    414\u001b[0m         \u001b[38;5;124mf\u001b[39m\u001b[38;5;124m\"\u001b[39m\u001b[38;5;124m`\u001b[39m\u001b[38;5;132;01m{\u001b[39;00m\u001b[38;5;28mself\u001b[39m\u001b[38;5;241m.\u001b[39m\u001b[38;5;18m__class__\u001b[39m\u001b[38;5;241m.\u001b[39m\u001b[38;5;18m__name__\u001b[39m\u001b[38;5;132;01m}\u001b[39;00m\u001b[38;5;124m.from_config(config)` methods.\u001b[39m\u001b[38;5;124m\"\u001b[39m\n\u001b[0;32m    415\u001b[0m     )\n",
      "\u001b[1;31mOSError\u001b[0m: AutoModelForCausalLM is designed to be instantiated using the `AutoModelForCausalLM.from_pretrained(pretrained_model_name_or_path)` or `AutoModelForCausalLM.from_config(config)` methods."
     ]
    }
   ],
   "source": [
    "model = AutoModelForCausalLM()\n",
    "model.load_state_dict(torch.load(\"./tinyllama_untrained.pth\"))\n",
    "model.eval()"
   ]
  },
  {
   "cell_type": "markdown",
   "id": "83ba539d-f162-4ea2-8125-9995f477693c",
   "metadata": {},
   "source": [
    "\tProblem\n",
    "1\tThe construction industry is indubitably one of the significant contributors to global waste, contributing approximately 1.3 billion tons of waste annually, exerting significant pressure on our landfills and natural resources. Traditional construction methods entail single-use designs that require frequent demolitions, leading to resource depletion and wastage."
   ]
  },
  {
   "cell_type": "code",
   "execution_count": null,
   "id": "b06e8268-7c98-4b91-a5b3-004fce5abf37",
   "metadata": {},
   "outputs": [],
   "source": []
  }
 ],
 "metadata": {
  "kernelspec": {
   "display_name": "Python 3 (ipykernel)",
   "language": "python",
   "name": "python3"
  },
  "language_info": {
   "codemirror_mode": {
    "name": "ipython",
    "version": 3
   },
   "file_extension": ".py",
   "mimetype": "text/x-python",
   "name": "python",
   "nbconvert_exporter": "python",
   "pygments_lexer": "ipython3",
   "version": "3.11.4"
  }
 },
 "nbformat": 4,
 "nbformat_minor": 5
}
